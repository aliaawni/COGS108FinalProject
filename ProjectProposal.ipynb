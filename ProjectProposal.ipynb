{
 "cells": [
  {
   "cell_type": "markdown",
   "metadata": {},
   "source": [
    "# COGS 108 - Project Proposal"
   ]
  },
  {
   "cell_type": "markdown",
   "metadata": {},
   "source": [
    "## Important\n",
    "\n",
    "- Make sure all group members (3-6 people) are listed in the group members section.\n",
    "- ONE, and only one, member of your group should upload this notebook to TritonED. \n",
    "- Each member of the group will receive the same grade on this assignment. \n",
    "- Keep the file name the same: submit the file 'ProjectProposal.ipynb'"
   ]
  },
  {
   "cell_type": "markdown",
   "metadata": {},
   "source": [
    "## Overview"
   ]
  },
  {
   "cell_type": "markdown",
   "metadata": {},
   "source": [
    "Read the project description and detailed instructions for this assignment in the 'ProjectOutline' document."
   ]
  },
  {
   "cell_type": "markdown",
   "metadata": {},
   "source": [
    "## Group Members: Fill in the Student IDs of each group member here\n",
    "\n",
    "Replace the lines below to list each persons full student ID. Add lines as needed for your group size, and make sure each ID is listed on a separate line. \n",
    "\n",
    "- A12692823\n",
    "- A12848222 \n",
    "- A12582341\n",
    "- A12844814\n",
    "- A13700776\n",
    "- A13078853"
   ]
  },
  {
   "cell_type": "markdown",
   "metadata": {},
   "source": [
    "### Research Question\n",
    "\n",
    "What is your research question? (1-2 sentences)"
   ]
  },
  {
   "cell_type": "markdown",
   "metadata": {},
   "source": [
    "Based on small area estimates for diabetes incidence in San Diego county, is there a higher risk of diabetes in areas that have limited accessibility to supermarkets?"
   ]
  },
  {
   "cell_type": "markdown",
   "metadata": {},
   "source": [
    "### Hypothesis\n",
    "\n",
    "What is your main hypothesis and predictions? (2-3 sentences)"
   ]
  },
  {
   "cell_type": "markdown",
   "metadata": {},
   "source": [
    "We hypothesize that tracts that have less accessibility to supermarkets based on accessibility to sources of healthy food, individual level resources, and neighborhood-level indicators of resources will have a higher rate of diabetes across all ages, races, sexes, and poverty levels. We predict that populations with less accessibility to supermarkets will be at higher risk for diabetes development due to the decreased availability of fresh, healthy food options. "
   ]
  },
  {
   "cell_type": "markdown",
   "metadata": {},
   "source": [
    "### Dataset(s)\n",
    "\n",
    "What data will you use to answer your question? Describe the dataset(s) in terms of number of observations, what kind of features it contains, etc. You must use at least one dataset containing at least approximately 1000 observations (if your data are smaller but you feel they are sufficient, email Prof. Voytek). You are welcome (and in fact recommended) to find multiple datasets! If you do so, describe each one, and briefly explain how you will combine them together. "
   ]
  },
  {
   "cell_type": "markdown",
   "metadata": {},
   "source": [
    "- Dataset Name: Food Access Research Atlas, San Diego\n",
    "- Link to the dataset: https://data.sandiegodata.org/dataset/usda-gov-food_access \n",
    "- Number of observations: 628\n",
    "\n",
    "This data set that will be used is the San Diego Food Access Research Atlas. The Atlas uses census-level tract data to measure food access and presents spatial data about supermarket accessibility using the population count from the 2010 census. The data uses accessibility of healthy to healthy food sources, individual level resources, and neighborhood level indicators of resources as indicators of access. \n",
    "\n",
    "\n",
    "- Dataset Name: Small Area Estimates for Diabetes in San Diego\n",
    "- Link to the dataset: https://data.sandiegodata.org/dataset/sandiegodata-org-diabetes_sae \n",
    "- Number of observations: 628\n",
    "\n",
    "This data set provides small area estimates of the diabetes rate per tract for all the tracts in San Diego county measured by CHIS microdata from 2015-2017 segmented by race, age, and group, and the race, age, sex, and poverty status of the population in San Diego county by tract measured by the ACS tract estimates from 2015-2017.\n",
    "\n",
    "We plan to combine these datasets by the tract id number, which should match perfectly across them."
   ]
  },
  {
   "cell_type": "markdown",
   "metadata": {},
   "source": [
    "### Background and Prior Work\n",
    "\n",
    "Why is this question of interest, what background information led you to your hypothesis, and why is this important?\n",
    "\n",
    "Find some relevant prior work, and reference those sources. Even if you think you have a totally novel question, find the most similar prior work that you can and discuss how it relates to your project. \n",
    "\n",
    "References can be research publications, but they need not be. Blogs, github repositories, company websites, etc., are all viable references if they are relevant to your project.\n",
    "\n",
    "(2-3 paragraphs, including at least 2 references)"
   ]
  },
  {
   "cell_type": "markdown",
   "metadata": {},
   "source": [
    "Diabetes, a medical condition in which an individual’s blood sugar levels are too high, affects millions of people all over the world. Although diabetes can be managed with diet and exercise, it is an incurable disease that comes with many health complications and high risks [1]. It is especially relevant to modern medicine because diabetes rates in the United States have nearly quadrupled over the past thirty years, and over 30 million Americans currently suffer from the disease. Diets high in sugar, salt, and fat, and deficient in fiber, vitamins, and minerals provided by fruits, vegetables, and whole grains increase the risk of type 2 diabetes (the nutrition and lifestyle based form of the disease) [2].  However, what people eat is highly dependent on their access to various foods, and healthy food access is a complex phenomenon including geographic proximity, availability, affordability, and cultural food preferences among a multitude of other factors. Many studies that measure grocery store and healthy food availability find major disparities in food access by race and income in certain areas, thus putting nutritious healthy foods out of reach for specific communities that are instead more likely to resort to more abundant convenience stores and fast food restaurants that mainly sell cheap, fatty, sugary, and processed foods [3]. Studies find that residents with better access to supermarkets or a greater frequency of healthy foods in neighborhood stores consume significantly more nutritious foods as opposed to residents in communities with low food access [3].\n",
    "\t\n",
    "    \n",
    "   Significant correlations have been found between food access and diabetes rates, where greater access to nutritious food is associated to lower diabetes rates, and greater access to unhealthy food is associated with higher rates of diabetes. Notably, proximity to healthy food has a bigger effect on diabetes risk in communities of color and in low-income communities. Based on this background information about food access and diabetes rate across the United States, we hypothesize that San Diego tracts that have less accessibility to supermarkets based on accessibility to sources of healthy food, individual level resources, and neighborhood-level indicators of resources will have a higher rate of diabetes across all ages, races, sexes, and poverty levels. Our research question of whether there is a correlation between low supermarket access and diabetes risk in San Diego county is crucial to public health in San Diego county, because equal access to healthy food is a right that should be provided to all human beings. Furthermore, if unequal access to healthcare leaves some individuals more susceptible to diseases such as diabetes which can be potentially life-threatening, there should be initiatives put in place to improve access to nutritious food and subsequently improve health in low-access communities, otherwise leaving some individuals at a great disadvantage simply based on their location of residence. \n",
    " \n",
    "\n",
    "References (include links):\n",
    "- 1) http://www.diabetes.org/\n",
    "- 2) https://www.ucsusa.org/food-agriculture/expand-healthy-food-access/unequal-food-access-race-income-diabetes#.XGB39VxKhPY\n",
    "- 3) http://thefoodtrust.org/uploads/media_items/grocerygap.original.pdf"
   ]
  },
  {
   "cell_type": "markdown",
   "metadata": {},
   "source": [
    "### Proposed Methods\n",
    "\n",
    "What methods will you use to analyze your data?\n",
    "\n",
    "- How 'clean' is the data? To the extent that it requires cleaning, how will you do so?\n",
    "- How will you analyze the data? Be as specific as you can. Briefly mention any pre-processing steps that are required for your methods (for example, checking data distributions and performing any transformations that may be required). Include a brief outline of how you will apply your chosen method(s). \n",
    "- What do you plan to report? Briefly mention any key visualizations you plan to create, and/or the kind of results you will be able to report that address your question (this could be, for example, the outcome of some statistical test(s), prediction error on a model, a model fit parameter, etc.).\n",
    "- Include a list of packages you expect to use for you project. If you plan to use packages we have not used in class, add a very brief description about them (a few words is sufficient). "
   ]
  },
  {
   "cell_type": "markdown",
   "metadata": {},
   "source": [
    "The first step in cleaning the data is to combine the two datasets by tract number. A census tract is a small subdivision of San Diego county roughly equivalent of a neighborhood. We’ll need to make sure that there are no tracts which couldn’t be matched, since this column should match exactly across the two datasets. We’ll also remove unnecessary columns so that the data is easier to work with. The Food Access Research Atlas dataset has 147 columns, however the ones which are important to us are tract number, population according to 2010 census, median family income, the columns which indicates proportion of population which are certain distances from a supermarket, and the columns of total population counts of each race. Lastly, we would need to combine some of the race columns from the Food Access Research Atlas dataset, since they separate out more races than the diabetes dataset does (seven versus five). \n",
    "\n",
    "\n",
    "Since the data is coarse-grained, where each datapoint is a census tract rather than an individual person, there aren’t any privacy concerns or individually identifying information we would be obligated to remove.\n",
    "\n",
    "\n",
    "We will do a couple layers of exploratory analysis prior to answering our overall question. We \n",
    "will plot and analyze the distributions of food access rates, diabetes risk, race, and income by tract number over San Diego County. This will allow us to examine any potential outliers in any of these dimensions, and note patterns. Once we have examined each of the variables independently, we will look at the correlation of diabetes risk and food access rates using linear regression, and plot the resulting scatter plot with line of best fit.\n",
    "\t\n",
    "    \n",
    "Secondly, we plan to look at the effect of race upon this correlation, and break the data set by race, somewhat coarsely since the diabetes dataset does not have very fine-grained race labelling. We will then run similar linear regression analyses per race on the same data (food access vs diabetes risk). We will then compare all the r-squared values of these analyses with that of our original analysis. By looking both at food access overall and at food access per race in each census tract, we hope to answer not only if food access is correlated with diabetes risk in the San Diego area, but whether food access influences diabetes risk independently of race.\n",
    "\n",
    "\n",
    "For each of our single variable analyses, we plan to prepare a plot showing its effect on diabetes risk, revealing how correlated they are. Then, for our regression model, we will show the line of best fit over the scatter plot so the correlation between food access and diabetes risk is clearly displayed.\n",
    "\n",
    "\n",
    "We would like to create a visualization of which factors are the least/most correlated with diabetes. Ideally this would allow easy comparison between factors, as well as clearly display correlation of each one individually. We would also like to present a map that shows the geographic location of areas in San Diego that are at greater risk of diabetes due to their accessibility to supermarkets.\n",
    "\n",
    "\n",
    "Packages we plan to use:\n",
    "- numpy\n",
    "- matplotlib\n",
    "- pandas"
   ]
  },
  {
   "cell_type": "markdown",
   "metadata": {},
   "source": [
    "### Ethics and Privacy\n",
    "\n",
    "Briefly acknowledge and address any potential issues of ethics and privacy for the proposed project. In particular:\n",
    "- Do you have permission to use this data, for this purpose?\n",
    "- Are there privacy concerns regarding your datasets that you need to deal with, and/or terms of use that you need to comply with?\n",
    "- Are there potential biases in your dataset(s), in terms of who it composes, and how it was collected, that may be problematic in terms of it allowing for equitable analysis? (For example, does your data exclude particular populations, or is it likely to reflect particular human biases in a way that could be a problem?) \n",
    "- Are there any other issues related to your topic area, data, and/or analyses that are potentially problematic in terms of data privacy and equitable impact?\n",
    "- How will you handle any issues you identify?\n",
    "\n",
    "(1-2 paragraphs)"
   ]
  },
  {
   "cell_type": "markdown",
   "metadata": {},
   "source": [
    "This data has been obtained from the San Diego Regional Data Library which allows people such as governments and journalists have usable data for their operations. The datasets are open to use to “inform and influence grantors, decision makers, and the public” and our project functions to inform the public about the relationship between diabetes and supermarket accessibility. The estimated diabetes rates are calculated from the California Health Interview Survey (CHIS) microdata and is provided from the UCLA Center for Health Policy Research. There are terms and restrictions for creation of the data. Bound by promises made to respondents, CHIS assures that no personal information is released in a way that an individual may be identified without consent. The terms of use that we must comply with includes the California Information Practice Act section 1798.24 which states that the data collected by CHIS may only be released for statistical research and reporting purposes.The  supermarket accessibility data is based on the information from the Food Access Research Atlas which provides food access data for populations within census tracts. This data was gathered from the census and is public information.\n",
    "\n",
    "\n",
    "Because the data was collected from surveys, there is room for biases in the data. It is possible that individuals may not report the correct information. For example, people may incorrectly report income if they are embarrassed about their income level. Another potential bias could be that the risk of diabetes for minority groups is underestimated due to a smaller sample size. Our datasets are very generalized, so in our case there are not very many privacy concerns. Of course if there are very few people of a certain demographic within a GeoID, then we run into a deanonymization issue, especially combining datasets. This likelihood however should be low since we are mostly dealing with rates rather than counts. Our analysis on the other hand could show some interesting conclusions that could have more severe impact. Finding that either race or food access affects diabetes risks more than the other, could negatively impact health insurance premiums for the riskier demographics. If we published findings, then it could affect the choices of potential employers as well, thinking about health coverage of employees or potentially limited future work potential for riskier groups. If we run into these issues we would make sure to clarify in our report that any correlations we find do not imply causation, and that many genetic and environmental factors contribute to a person’s risk for diabetes. \n"
   ]
  },
  {
   "cell_type": "markdown",
   "metadata": {},
   "source": [
    "### Discussion\n",
    "\n",
    "Discuss your project, looking forward to what your results might mean, how they fit it in with what is already known, and what problems you may encounter. \n",
    "\n",
    "In particular:\n",
    "- If your analyses and hypotheses are correct, what will be the contribution of this project to the topic domain? \n",
    "- Alternatively, what will you do if you methods don't work and/or your hypotheses are wrong? \n",
    "- What are the potential pitfalls and potential confounds of your data and/or methods that may cause problems, and/or influence your interpretations?\n",
    "\n",
    "(2-3 paragraphs)"
   ]
  },
  {
   "cell_type": "markdown",
   "metadata": {},
   "source": [
    "If our hypothesis were to be confirmed, this would mean that “populations with less accessibility to supermarkets would be at higher risk for diabetes development due to the decreased availability of fresh, healthy food options”.  Confirmation of this hypothesis and prediction could have a major impact on the future of urban planning.  With an understanding that availability of supermarkets, and consequently fresh produce, can greatly impact the overall health of the people living in these areas, urban planners can take greater care to incorporate more accessible markets into the planning of future communities. This may impact not only in the field of urban planning, but it could also lead to legislative changes like increased subsidies for local farms.  Farmers’ markets are excellent places for locals to have access to fresh and organic produce, but it is often very expensive.  Governmental subsidies afforded to these farmers may help reduce the price of the product, while simultaneously supporting local businesses.  Along the same lines, a greater push for access to fresh produce could lead to the creation of more community sustained gardening or farming initiatives.  These types of projects are especially impactful in low-income areas due to their self-sustaining nature.\n",
    "\n",
    "If our methods don't work or if our hypothesis are wrong we could look into expanding the size of our data set to include Southern California, or even the entire state of California instead of restricting it to just San Diego county. An increase in the number of data points could reveal trends that were not previously present in the smaller dataset. If our hypothesis turns out to be incorrect, we will have to go back and take another look at our variables, then further modify our hypothesis.\n",
    "\n",
    "A potential confounds in the data that could influence our interpretations would be genetics. Diabetes, to some extent, is hereditary. An individual inherits a predisposition to the disease and something in the environment triggers it. The data does not take into account whether the population in each tract includes people in the same families which may change how the data is interpreted because genetics may be the underlying predictor for diabetes rather than supermarket accessibility. Additionally, the data does not take into account the differences between type 1 diabetes and type 2 diabetes. Type 1 is an autoimmune condition and is not typically associated with poor diet and food intake unlike type 2 diabetes. Therefore, supermarket accessibility would not necessarily contribute to the risk of type 1 diabetes. We may have interpreted the need for supermarket accessibility differently if the data addressed type 1 and type 2 diabetes in the population separately. Another potential pitfall of our data is that the datasets are collected a few years apart. The food access dataset is based on 2010 census data, where as the diabetes dataset is based on data from 2015-2017. If the population of San Diego dramatically changed or shifted around in that time period, it could confound our results."
   ]
  }
 ],
 "metadata": {
  "kernelspec": {
   "display_name": "Python 3",
   "language": "python",
   "name": "python3"
  },
  "language_info": {
   "codemirror_mode": {
    "name": "ipython",
    "version": 3
   },
   "file_extension": ".py",
   "mimetype": "text/x-python",
   "name": "python",
   "nbconvert_exporter": "python",
   "pygments_lexer": "ipython3",
   "version": "3.7.1"
  }
 },
 "nbformat": 4,
 "nbformat_minor": 2
}
