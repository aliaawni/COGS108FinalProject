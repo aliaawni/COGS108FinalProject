{
 "cells": [
  {
   "cell_type": "code",
   "execution_count": 1,
   "metadata": {},
   "outputs": [],
   "source": [
    "import numpy as np\n",
    "import pandas as pd\n",
    "import matplotlib.pyplot as plt\n",
    "\n",
    "import patsy\n",
    "import statsmodels.api as sm"
   ]
  },
  {
   "cell_type": "markdown",
   "metadata": {},
   "source": [
    "# COGS 108 Final Project"
   ]
  },
  {
   "cell_type": "markdown",
   "metadata": {},
   "source": [
    "### Research Question\n",
    "\n",
    "Based on small area estimates for diabetes incidence in San Diego county, is there a higher risk of diabetes in areas that have limited accessibility to supermarkets?"
   ]
  },
  {
   "cell_type": "markdown",
   "metadata": {},
   "source": [
    "### Hypothesis\n",
    "\n",
    "We hypothesize that tracts that have less accessibility to supermarkets based on accessibility to sources of healthy food, individual level resources, and neighborhood-level indicators of resources will have a higher rate of diabetes across all ages, races, sexes, and poverty levels. We predict that populations with less accessibility to supermarkets will be at higher risk for diabetes development due to the decreased availability of fresh, healthy food options. "
   ]
  },
  {
   "cell_type": "markdown",
   "metadata": {},
   "source": [
    "### Datasets\n",
    "\n",
    "**Food Access Research Atlas, San Diego**\n",
    "\n",
    "- Link to the dataset: https://data.sandiegodata.org/dataset/usda-gov-food_access \n",
    "- Number of observations: 628\n",
    "\n",
    "This data set that will be used is the San Diego Food Access Research Atlas. The Atlas uses census-level tract data to measure food access and presents spatial data about supermarket accessibility using the population count from the 2010 census. The data uses accessibility of healthy to healthy food sources, individual level resources, and neighborhood level indicators of resources as indicators of access. \n"
   ]
  },
  {
   "cell_type": "code",
   "execution_count": 2,
   "metadata": {},
   "outputs": [],
   "source": [
    "diabetes_df = pd.read_csv('sandiegodata.org-diabetes_sae-1/data/tract_diabetes.csv')"
   ]
  },
  {
   "cell_type": "code",
   "execution_count": 3,
   "metadata": {},
   "outputs": [
    {
     "data": {
      "text/html": [
       "<div>\n",
       "<style scoped>\n",
       "    .dataframe tbody tr th:only-of-type {\n",
       "        vertical-align: middle;\n",
       "    }\n",
       "\n",
       "    .dataframe tbody tr th {\n",
       "        vertical-align: top;\n",
       "    }\n",
       "\n",
       "    .dataframe thead th {\n",
       "        text-align: right;\n",
       "    }\n",
       "</style>\n",
       "<table border=\"1\" class=\"dataframe\">\n",
       "  <thead>\n",
       "    <tr style=\"text-align: right;\">\n",
       "      <th></th>\n",
       "      <th>geoid</th>\n",
       "      <th>asian</th>\n",
       "      <th>black</th>\n",
       "      <th>hisp</th>\n",
       "      <th>nhwhite</th>\n",
       "      <th>other</th>\n",
       "      <th>total</th>\n",
       "    </tr>\n",
       "  </thead>\n",
       "  <tbody>\n",
       "    <tr>\n",
       "      <th>0</th>\n",
       "      <td>14000US06073000100</td>\n",
       "      <td>0.090034</td>\n",
       "      <td>NaN</td>\n",
       "      <td>0.240076</td>\n",
       "      <td>0.100720</td>\n",
       "      <td>0.149703</td>\n",
       "      <td>0.117236</td>\n",
       "    </tr>\n",
       "    <tr>\n",
       "      <th>1</th>\n",
       "      <td>14000US06073000201</td>\n",
       "      <td>0.083256</td>\n",
       "      <td>0.101111</td>\n",
       "      <td>0.093961</td>\n",
       "      <td>0.085595</td>\n",
       "      <td>0.094269</td>\n",
       "      <td>0.087723</td>\n",
       "    </tr>\n",
       "    <tr>\n",
       "      <th>2</th>\n",
       "      <td>14000US06073000202</td>\n",
       "      <td>0.084176</td>\n",
       "      <td>0.073590</td>\n",
       "      <td>0.096333</td>\n",
       "      <td>0.054982</td>\n",
       "      <td>0.084927</td>\n",
       "      <td>0.065198</td>\n",
       "    </tr>\n",
       "    <tr>\n",
       "      <th>3</th>\n",
       "      <td>14000US06073000300</td>\n",
       "      <td>0.045533</td>\n",
       "      <td>0.108271</td>\n",
       "      <td>0.086672</td>\n",
       "      <td>0.069047</td>\n",
       "      <td>0.025907</td>\n",
       "      <td>0.068951</td>\n",
       "    </tr>\n",
       "    <tr>\n",
       "      <th>4</th>\n",
       "      <td>14000US06073000400</td>\n",
       "      <td>0.048468</td>\n",
       "      <td>0.028781</td>\n",
       "      <td>0.045808</td>\n",
       "      <td>0.056943</td>\n",
       "      <td>0.049220</td>\n",
       "      <td>0.053447</td>\n",
       "    </tr>\n",
       "  </tbody>\n",
       "</table>\n",
       "</div>"
      ],
      "text/plain": [
       "                geoid     asian     black      hisp   nhwhite     other  \\\n",
       "0  14000US06073000100  0.090034       NaN  0.240076  0.100720  0.149703   \n",
       "1  14000US06073000201  0.083256  0.101111  0.093961  0.085595  0.094269   \n",
       "2  14000US06073000202  0.084176  0.073590  0.096333  0.054982  0.084927   \n",
       "3  14000US06073000300  0.045533  0.108271  0.086672  0.069047  0.025907   \n",
       "4  14000US06073000400  0.048468  0.028781  0.045808  0.056943  0.049220   \n",
       "\n",
       "      total  \n",
       "0  0.117236  \n",
       "1  0.087723  \n",
       "2  0.065198  \n",
       "3  0.068951  \n",
       "4  0.053447  "
      ]
     },
     "execution_count": 3,
     "metadata": {},
     "output_type": "execute_result"
    }
   ],
   "source": [
    "diabetes_df.head()"
   ]
  },
  {
   "cell_type": "markdown",
   "metadata": {},
   "source": [
    "**Small Area Estimates for Diabetes in San Diego**\n",
    "\n",
    "- Link to the dataset: https://data.sandiegodata.org/dataset/sandiegodata-org-diabetes_sae \n",
    "- Number of observations: 628\n",
    "\n",
    "This data set provides small area estimates of the diabetes rate per tract for all the tracts in San Diego county measured by CHIS microdata from 2015-2017 segmented by race, age, and group, and the race, age, sex, and poverty status of the population in San Diego county by tract measured by the ACS tract estimates from 2015-2017.\n",
    "\n",
    "We plan to combine these datasets by the tract id number, which should match perfectly across them."
   ]
  },
  {
   "cell_type": "code",
   "execution_count": 4,
   "metadata": {},
   "outputs": [],
   "source": [
    "food_acc_df = pd.read_csv('usda.gov-food_access-1/data/sd_food_atlas.csv')"
   ]
  },
  {
   "cell_type": "code",
   "execution_count": 5,
   "metadata": {},
   "outputs": [
    {
     "data": {
      "text/html": [
       "<div>\n",
       "<style scoped>\n",
       "    .dataframe tbody tr th:only-of-type {\n",
       "        vertical-align: middle;\n",
       "    }\n",
       "\n",
       "    .dataframe tbody tr th {\n",
       "        vertical-align: top;\n",
       "    }\n",
       "\n",
       "    .dataframe thead th {\n",
       "        text-align: right;\n",
       "    }\n",
       "</style>\n",
       "<table border=\"1\" class=\"dataframe\">\n",
       "  <thead>\n",
       "    <tr style=\"text-align: right;\">\n",
       "      <th></th>\n",
       "      <th>geoid</th>\n",
       "      <th>state</th>\n",
       "      <th>county</th>\n",
       "      <th>urban</th>\n",
       "      <th>pop2010</th>\n",
       "      <th>ohu2010</th>\n",
       "      <th>groupquartersflag</th>\n",
       "      <th>numgqtrs</th>\n",
       "      <th>pctgqtrs</th>\n",
       "      <th>lilatracts_1and10</th>\n",
       "      <th>...</th>\n",
       "      <th>tractseniors</th>\n",
       "      <th>tractwhite</th>\n",
       "      <th>tractblack</th>\n",
       "      <th>tractasian</th>\n",
       "      <th>tractnhopi</th>\n",
       "      <th>tractaian</th>\n",
       "      <th>tractomultir</th>\n",
       "      <th>tracthispanic</th>\n",
       "      <th>tracthunv</th>\n",
       "      <th>tractsnap</th>\n",
       "    </tr>\n",
       "  </thead>\n",
       "  <tbody>\n",
       "    <tr>\n",
       "      <th>0</th>\n",
       "      <td>14000US06073000100</td>\n",
       "      <td>California</td>\n",
       "      <td>San Diego</td>\n",
       "      <td>1</td>\n",
       "      <td>3029</td>\n",
       "      <td>1333</td>\n",
       "      <td>0</td>\n",
       "      <td>0</td>\n",
       "      <td>0.000000</td>\n",
       "      <td>0</td>\n",
       "      <td>...</td>\n",
       "      <td>680</td>\n",
       "      <td>2813</td>\n",
       "      <td>26</td>\n",
       "      <td>76</td>\n",
       "      <td>2</td>\n",
       "      <td>15</td>\n",
       "      <td>97</td>\n",
       "      <td>239</td>\n",
       "      <td>52</td>\n",
       "      <td>9</td>\n",
       "    </tr>\n",
       "    <tr>\n",
       "      <th>1</th>\n",
       "      <td>14000US06073000201</td>\n",
       "      <td>California</td>\n",
       "      <td>San Diego</td>\n",
       "      <td>1</td>\n",
       "      <td>1801</td>\n",
       "      <td>992</td>\n",
       "      <td>0</td>\n",
       "      <td>0</td>\n",
       "      <td>0.000000</td>\n",
       "      <td>0</td>\n",
       "      <td>...</td>\n",
       "      <td>395</td>\n",
       "      <td>1588</td>\n",
       "      <td>30</td>\n",
       "      <td>84</td>\n",
       "      <td>0</td>\n",
       "      <td>12</td>\n",
       "      <td>87</td>\n",
       "      <td>182</td>\n",
       "      <td>151</td>\n",
       "      <td>20</td>\n",
       "    </tr>\n",
       "    <tr>\n",
       "      <th>2</th>\n",
       "      <td>14000US06073000202</td>\n",
       "      <td>California</td>\n",
       "      <td>San Diego</td>\n",
       "      <td>1</td>\n",
       "      <td>4208</td>\n",
       "      <td>2245</td>\n",
       "      <td>0</td>\n",
       "      <td>64</td>\n",
       "      <td>0.015209</td>\n",
       "      <td>0</td>\n",
       "      <td>...</td>\n",
       "      <td>556</td>\n",
       "      <td>3561</td>\n",
       "      <td>112</td>\n",
       "      <td>199</td>\n",
       "      <td>4</td>\n",
       "      <td>14</td>\n",
       "      <td>318</td>\n",
       "      <td>583</td>\n",
       "      <td>51</td>\n",
       "      <td>26</td>\n",
       "    </tr>\n",
       "    <tr>\n",
       "      <th>3</th>\n",
       "      <td>14000US06073000300</td>\n",
       "      <td>California</td>\n",
       "      <td>San Diego</td>\n",
       "      <td>1</td>\n",
       "      <td>4732</td>\n",
       "      <td>2871</td>\n",
       "      <td>0</td>\n",
       "      <td>179</td>\n",
       "      <td>0.037828</td>\n",
       "      <td>0</td>\n",
       "      <td>...</td>\n",
       "      <td>795</td>\n",
       "      <td>3880</td>\n",
       "      <td>118</td>\n",
       "      <td>303</td>\n",
       "      <td>22</td>\n",
       "      <td>31</td>\n",
       "      <td>378</td>\n",
       "      <td>687</td>\n",
       "      <td>332</td>\n",
       "      <td>62</td>\n",
       "    </tr>\n",
       "    <tr>\n",
       "      <th>4</th>\n",
       "      <td>14000US06073000400</td>\n",
       "      <td>California</td>\n",
       "      <td>San Diego</td>\n",
       "      <td>1</td>\n",
       "      <td>3669</td>\n",
       "      <td>2140</td>\n",
       "      <td>0</td>\n",
       "      <td>310</td>\n",
       "      <td>0.084492</td>\n",
       "      <td>0</td>\n",
       "      <td>...</td>\n",
       "      <td>350</td>\n",
       "      <td>2821</td>\n",
       "      <td>157</td>\n",
       "      <td>364</td>\n",
       "      <td>13</td>\n",
       "      <td>19</td>\n",
       "      <td>295</td>\n",
       "      <td>572</td>\n",
       "      <td>231</td>\n",
       "      <td>77</td>\n",
       "    </tr>\n",
       "  </tbody>\n",
       "</table>\n",
       "<p>5 rows × 147 columns</p>\n",
       "</div>"
      ],
      "text/plain": [
       "                geoid       state     county  urban  pop2010  ohu2010  \\\n",
       "0  14000US06073000100  California  San Diego      1     3029     1333   \n",
       "1  14000US06073000201  California  San Diego      1     1801      992   \n",
       "2  14000US06073000202  California  San Diego      1     4208     2245   \n",
       "3  14000US06073000300  California  San Diego      1     4732     2871   \n",
       "4  14000US06073000400  California  San Diego      1     3669     2140   \n",
       "\n",
       "   groupquartersflag  numgqtrs  pctgqtrs  lilatracts_1and10    ...      \\\n",
       "0                  0         0  0.000000                  0    ...       \n",
       "1                  0         0  0.000000                  0    ...       \n",
       "2                  0        64  0.015209                  0    ...       \n",
       "3                  0       179  0.037828                  0    ...       \n",
       "4                  0       310  0.084492                  0    ...       \n",
       "\n",
       "   tractseniors  tractwhite  tractblack  tractasian  tractnhopi  tractaian  \\\n",
       "0           680        2813          26          76           2         15   \n",
       "1           395        1588          30          84           0         12   \n",
       "2           556        3561         112         199           4         14   \n",
       "3           795        3880         118         303          22         31   \n",
       "4           350        2821         157         364          13         19   \n",
       "\n",
       "   tractomultir  tracthispanic  tracthunv  tractsnap  \n",
       "0            97            239         52          9  \n",
       "1            87            182        151         20  \n",
       "2           318            583         51         26  \n",
       "3           378            687        332         62  \n",
       "4           295            572        231         77  \n",
       "\n",
       "[5 rows x 147 columns]"
      ]
     },
     "execution_count": 5,
     "metadata": {},
     "output_type": "execute_result"
    }
   ],
   "source": [
    "food_acc_df.head()"
   ]
  },
  {
   "cell_type": "markdown",
   "metadata": {},
   "source": [
    "### Background and Prior Work\n",
    "\n",
    "Diabetes, a medical condition in which an individual’s blood sugar levels are too high, affects millions of people all over the world. Although diabetes can be managed with diet and exercise, it is an incurable disease that comes with many health complications and high risks [1]. It is especially relevant to modern medicine because diabetes rates in the United States have nearly quadrupled over the past thirty years, and over 30 million Americans currently suffer from the disease. Diets high in sugar, salt, and fat, and deficient in fiber, vitamins, and minerals provided by fruits, vegetables, and whole grains increase the risk of type 2 diabetes (the nutrition and lifestyle based form of the disease) [2].  However, what people eat is highly dependent on their access to various foods, and healthy food access is a complex phenomenon including geographic proximity, availability, affordability, and cultural food preferences among a multitude of other factors. Many studies that measure grocery store and healthy food availability find major disparities in food access by race and income in certain areas, thus putting nutritious healthy foods out of reach for specific communities that are instead more likely to resort to more abundant convenience stores and fast food restaurants that mainly sell cheap, fatty, sugary, and processed foods [3]. Studies find that residents with better access to supermarkets or a greater frequency of healthy foods in neighborhood stores consume significantly more nutritious foods as opposed to residents in communities with low food access [3].\n",
    "\t\n",
    "    \n",
    "   Significant correlations have been found between food access and diabetes rates, where greater access to nutritious food is associated to lower diabetes rates, and greater access to unhealthy food is associated with higher rates of diabetes. Notably, proximity to healthy food has a bigger effect on diabetes risk in communities of color and in low-income communities. Based on this background information about food access and diabetes rate across the United States, we hypothesize that San Diego tracts that have less accessibility to supermarkets based on accessibility to sources of healthy food, individual level resources, and neighborhood-level indicators of resources will have a higher rate of diabetes across all ages, races, sexes, and poverty levels. Our research question of whether there is a correlation between low supermarket access and diabetes risk in San Diego county is crucial to public health in San Diego county, because equal access to healthy food is a right that should be provided to all human beings. Furthermore, if unequal access to healthcare leaves some individuals more susceptible to diseases such as diabetes which can be potentially life-threatening, there should be initiatives put in place to improve access to nutritious food and subsequently improve health in low-access communities, otherwise leaving some individuals at a great disadvantage simply based on their location of residence. \n",
    " \n",
    "\n",
    "References:\n",
    "- 1) http://www.diabetes.org/\n",
    "- 2) https://www.ucsusa.org/food-agriculture/expand-healthy-food-access/unequal-food-access-race-income-diabetes#.XGB39VxKhPY\n",
    "- 3) http://thefoodtrust.org/uploads/media_items/grocerygap.original.pdf"
   ]
  },
  {
   "cell_type": "markdown",
   "metadata": {},
   "source": [
    "### Data Cleaning\n",
    "\n",
    "The first step in cleaning the data is to combine the two datasets by tract number. A census tract is a small subdivision of San Diego county roughly equivalent of a neighborhood. We’ll need to make sure that there are no tracts which couldn’t be matched, since this column should match exactly across the two datasets. We’ll also remove unnecessary columns so that the data is easier to work with. The Food Access Research Atlas dataset has 147 columns, however the ones which are important to us are tract number, population according to 2010 census, median family income, the columns which indicates proportion of population which are certain distances from a supermarket, and the columns of total population counts of each race. Lastly, we would need to combine some of the race columns from the Food Access Research Atlas dataset, since they separate out more races than the diabetes dataset does (seven versus five). \n",
    "\n",
    "Since the data is coarse-grained, where each datapoint is a census tract rather than an individual person, there aren’t any privacy concerns or individually identifying information we would be obligated to remove."
   ]
  },
  {
   "cell_type": "code",
   "execution_count": 6,
   "metadata": {},
   "outputs": [],
   "source": [
    "#Execute this cell to drop State, County, unneccessary flags, and group quarters data\n",
    "food_acc_df = food_acc_df.drop(['state', 'county', 'urban', 'ohu2010', 'groupquartersflag', 'numgqtrs', 'pctgqtrs', 'hunvflag'], axis=1)"
   ]
  },
  {
   "cell_type": "code",
   "execution_count": 7,
   "metadata": {},
   "outputs": [],
   "source": [
    "#Execute this cell to drop urban/rural divided data\n",
    "food_acc_df = food_acc_df.drop(['lapop1_10', 'lapop05_10', 'lapop1_20', 'lalowi1_10', 'lalowi05_10', 'lalowi1_20', 'lahalfand10', 'la1and20', 'la1and10'], axis=1)"
   ]
  },
  {
   "cell_type": "code",
   "execution_count": 8,
   "metadata": {},
   "outputs": [],
   "source": [
    "#Execute this cell to drop half mile distance for all unnecessary groups\n",
    "food_acc_df = food_acc_df.drop([ 'lalowihalf', 'lakidshalf', 'lakidshalfshare', 'laseniorshalf', 'laseniorshalfshare', 'lahunvhalf', 'lasnaphalf', 'lasnaphalfshare'], axis=1)"
   ]
  },
  {
   "cell_type": "code",
   "execution_count": 9,
   "metadata": {},
   "outputs": [],
   "source": [
    "# TODO DELETE THIS ALIA\n",
    "# Execute this cell to create column for count for \"other\" racial category\n",
    "# food_acc_df['laotherhalf'] = food_acc_df['lapophalf'] - food_acc_df['lawhitehalf'] - food_acc_df['lablackhalf'] - food_acc_df['laasianhalf'] - food_acc_df['lahisphalf']"
   ]
  },
  {
   "cell_type": "code",
   "execution_count": 10,
   "metadata": {},
   "outputs": [],
   "source": [
    "#Execute this cell to drop 1 mile distance for all uneccessary groups\n",
    "food_acc_df = food_acc_df.drop(['lalowi1', 'lakids1', 'lakids1share', 'laseniors1', 'laseniors1share', 'lahunv1', 'lasnap1', 'lasnap1share'], axis=1)"
   ]
  },
  {
   "cell_type": "code",
   "execution_count": 11,
   "metadata": {},
   "outputs": [],
   "source": [
    "# TODO DELETE THIS ALIA\n",
    "# Execute this cell to create column for count for \"other\" racial category\n",
    "# food_acc_df['laother1'] = food_acc_df['lapop1'] - food_acc_df['lawhite1'] - food_acc_df['lablack1'] - food_acc_df['laasian1'] - food_acc_df['lahisp1']"
   ]
  },
  {
   "cell_type": "code",
   "execution_count": 12,
   "metadata": {},
   "outputs": [],
   "source": [
    "#Execute this cell to drop 10 mile distance number (not shares) for all groups and unneccessary groups\n",
    "food_acc_df = food_acc_df.drop(['lapop10', 'lalowi10', 'lakids10', 'lakids10share', 'laseniors10', 'laseniors10share', 'lawhite10', 'lablack10', 'laasian10', 'lanhopi10', 'laaian10', 'laomultir10', 'lahisp10', 'lahunv10', 'lasnap10', 'lasnap10share'], axis=1)"
   ]
  },
  {
   "cell_type": "code",
   "execution_count": 13,
   "metadata": {},
   "outputs": [],
   "source": [
    "#Execute this cell to drop 20 mile distance number (not shares) for all groups and unneccessary groups\n",
    "food_acc_df = food_acc_df.drop(['lapop20', 'lalowi20', 'lakids20', 'lakids20share', 'laseniors20', 'laseniors20share', 'lawhite20', 'lablack20', 'laasian20', 'lanhopi20', 'laaian20', 'laomultir20', 'lahisp20', 'lahunv20', 'lasnap20', 'lasnap20share'], axis=1)"
   ]
  },
  {
   "cell_type": "code",
   "execution_count": 14,
   "metadata": {},
   "outputs": [],
   "source": [
    "#Execute this cell to drop all vehicle columns\n",
    "food_acc_df = food_acc_df.drop(['lahunvhalfshare', 'lahunv1share', 'lahunv10share', 'lahunv20share'], axis=1)"
   ]
  },
  {
   "cell_type": "code",
   "execution_count": 15,
   "metadata": {},
   "outputs": [],
   "source": [
    "#Execute this cell to drop unneccessary totals\n",
    "food_acc_df = food_acc_df.drop(['tracthunv', 'tractsnap', 'tractseniors', 'tractkids'], axis=1)"
   ]
  },
  {
   "cell_type": "code",
   "execution_count": 16,
   "metadata": {},
   "outputs": [],
   "source": [
    "#Execute this cell to drop low access flags\n",
    "food_acc_df = food_acc_df.drop(['latracts_half', 'latracts1', 'latracts10', 'latracts20', 'latractsvehicle_20'], axis=1)"
   ]
  },
  {
   "cell_type": "code",
   "execution_count": 17,
   "metadata": {},
   "outputs": [],
   "source": [
    "#Execute this cell to drop food desert flags\n",
    "food_acc_df = food_acc_df.drop(['lilatracts_1and10', 'lilatracts_halfand10', 'lilatracts_1and20', 'lilatracts_vehicle'], axis=1)"
   ]
  },
  {
   "cell_type": "code",
   "execution_count": 18,
   "metadata": {},
   "outputs": [
    {
     "name": "stdout",
     "output_type": "stream",
     "text": [
      "lapop10share\n",
      "lalowi10share\n",
      "lawhite10share\n",
      "lablack10share\n",
      "laasian10share\n",
      "lanhopi10share\n",
      "laaian10share\n",
      "laomultir10share\n",
      "lahisp10share\n",
      "lapop20share\n",
      "lalowi20share\n",
      "lawhite20share\n",
      "lablack20share\n",
      "laasian20share\n",
      "lanhopi20share\n",
      "laaian20share\n",
      "laomultir20share\n",
      "lahisp20share\n"
     ]
    }
   ],
   "source": [
    "#Execute this cell to drop columns containing all 0's (ends up being all data > 1 mile distance)\n",
    "#PLS NOTE THIS SOMEWHERE IN WRITE UP: no one lives more than 10 miles from supermarket\n",
    "temp = food_acc_df\n",
    "def remove_0_col(col):\n",
    "    if food_acc_df.dtypes[col] == 'int64' and sum(food_acc_df[col]) == 0:\n",
    "        print(col)\n",
    "        temp.drop([col], axis=1, inplace=True)\n",
    "        \n",
    "for col in food_acc_df.columns:\n",
    "    remove_0_col(col)\n",
    "food_acc_df = temp"
   ]
  },
  {
   "cell_type": "code",
   "execution_count": 19,
   "metadata": {},
   "outputs": [],
   "source": [
    "#Execute this cell to drop lowincome flag \n",
    "food_acc_df = food_acc_df.drop(['lowincometracts'], axis=1)"
   ]
  },
  {
   "cell_type": "code",
   "execution_count": 20,
   "metadata": {},
   "outputs": [],
   "source": [
    "# Execute this cell to change povertyrate to a percentage to a decimal\n",
    "food_acc_df['povertyrate'] = food_acc_df['povertyrate'] * .01"
   ]
  },
  {
   "cell_type": "code",
   "execution_count": 21,
   "metadata": {},
   "outputs": [],
   "source": [
    "#Execute this cell to combine races and drop combined columns\n",
    "\n",
    "food_acc_df['otherhalf'] = food_acc_df['lanhopihalf'] + food_acc_df['laaianhalf'] + food_acc_df['laomultirhalf']\n",
    "food_acc_df['otherhalfshare'] = food_acc_df['lanhopihalfshare'] + food_acc_df['laaianhalfshare'] + food_acc_df['laomultirhalfshare']\n",
    "food_acc_df['other1'] = food_acc_df['lanhopi1'] + food_acc_df['laaian1'] + food_acc_df['laomultir1']\n",
    "food_acc_df['other1share'] = food_acc_df['lanhopi1share'] + food_acc_df['laaian1share'] + food_acc_df['laomultir1share']\n",
    "food_acc_df = food_acc_df.drop(['lanhopihalfshare', 'lanhopi1share', 'laaian1share', 'laaianhalfshare', 'laomultirhalfshare', 'laomultir1share'], axis=1)\n",
    "food_acc_df = food_acc_df.drop(['lanhopihalf', 'lanhopi1', 'laaian1', 'laaianhalf', 'laomultirhalf', 'laomultir1'], axis=1)"
   ]
  },
  {
   "cell_type": "code",
   "execution_count": 22,
   "metadata": {},
   "outputs": [],
   "source": [
    "#Execute this cell to combine tract counts across race and drop combined columns\n",
    "food_acc_df['tractother'] = food_acc_df['tractnhopi'] + food_acc_df['tractaian'] + food_acc_df['tractomultir']\n",
    "#food_acc_df['tractother'] = (food_acc_df['pop2010'] - food_acc_df['tractwhite'] - food_acc_df['tractblack'] \n",
    "#                             - food_acc_df['tractasian'] - food_acc_df['tracthispanic'])\n",
    "food_acc_df.drop(['tractnhopi', 'tractaian', 'tractomultir'], axis=1, inplace=True)"
   ]
  },
  {
   "cell_type": "code",
   "execution_count": 23,
   "metadata": {},
   "outputs": [],
   "source": [
    "#Execute this cell to rename columns\n",
    "food_acc_df.columns = ['geoid', 'pop', 'povertyrate', 'medianfamilyincome', 'pophalf', 'pophalfshare', 'lowincomehalfshare', 'whitehalf', 'whitehalfshare',\n",
    "                      'blackhalf', 'blackhalfshare', 'asianhalf', 'asianhalfshare', 'hispanichalf', 'hispanichalfshare', 'pop1', 'pop1share', \n",
    "                      'lowincome1share', 'white1', 'white1share', 'black1', 'black1share', 'asian1', 'asian1share', 'hispanic1', 'hispanic1share', \n",
    "                       'tractlowincome', 'tractwhite', 'tractblack', 'tractasian', 'tracthispanic', 'otherhalf', 'otherhalfshare', 'other1', 'other1share', 'tractother']"
   ]
  },
  {
   "cell_type": "code",
   "execution_count": 24,
   "metadata": {},
   "outputs": [
    {
     "data": {
      "text/plain": [
       "True"
      ]
     },
     "execution_count": 24,
     "metadata": {},
     "output_type": "execute_result"
    }
   ],
   "source": [
    "#Proof that the geoids match across datasets *in order*\n",
    "(diabetes_df['geoid'] == food_acc_df['geoid']).all()"
   ]
  },
  {
   "cell_type": "code",
   "execution_count": 25,
   "metadata": {},
   "outputs": [],
   "source": [
    "#Execute this to combine the datasets\n",
    "df = food_acc_df\n",
    "df['asian_diabetes'] = diabetes_df['asian']\n",
    "df['black_diabetes'] = diabetes_df['black']\n",
    "df['hispanic_diabetes'] = diabetes_df['hisp']\n",
    "df['white_diabetes'] = diabetes_df['nhwhite']\n",
    "df['other_diabetes'] = diabetes_df['other']\n",
    "df['total_diabetes'] = diabetes_df['total']"
   ]
  },
  {
   "cell_type": "code",
   "execution_count": 26,
   "metadata": {},
   "outputs": [
    {
     "data": {
      "text/plain": [
       "Index(['geoid', 'pop', 'povertyrate', 'medianfamilyincome', 'pophalf',\n",
       "       'pophalfshare', 'lowincomehalfshare', 'whitehalf', 'whitehalfshare',\n",
       "       'blackhalf', 'blackhalfshare', 'asianhalf', 'asianhalfshare',\n",
       "       'hispanichalf', 'hispanichalfshare', 'pop1', 'pop1share',\n",
       "       'lowincome1share', 'white1', 'white1share', 'black1', 'black1share',\n",
       "       'asian1', 'asian1share', 'hispanic1', 'hispanic1share',\n",
       "       'tractlowincome', 'tractwhite', 'tractblack', 'tractasian',\n",
       "       'tracthispanic', 'otherhalf', 'otherhalfshare', 'other1', 'other1share',\n",
       "       'tractother', 'asian_diabetes', 'black_diabetes', 'hispanic_diabetes',\n",
       "       'white_diabetes', 'other_diabetes', 'total_diabetes'],\n",
       "      dtype='object')"
      ]
     },
     "execution_count": 26,
     "metadata": {},
     "output_type": "execute_result"
    }
   ],
   "source": [
    "# Sanity check for the current columns\n",
    "df.columns"
   ]
  },
  {
   "cell_type": "code",
   "execution_count": 27,
   "metadata": {},
   "outputs": [],
   "source": [
    "#drop last row since all the data is empty\n",
    "df = df.drop(627)"
   ]
  },
  {
   "cell_type": "markdown",
   "metadata": {},
   "source": [
    "### Data Visualizations\n",
    "\n",
    "We will do a couple layers of exploratory analysis prior to answering our overall question. We \n",
    "will plot and analyze the distributions of food access rates, diabetes risk, race, and income by tract number over San Diego County. This will allow us to examine any potential outliers in any of these dimensions, and note patterns. Once we have examined each of the variables independently, we will look at the correlation of diabetes risk and food access rates using linear regression, and plot the resulting scatter plot with line of best fit.\n",
    "\t\n",
    "    \n",
    "Secondly, we plan to look at the effect of race upon this correlation, and break the data set by race, somewhat coarsely since the diabetes dataset does not have very fine-grained race labelling. We will then run similar linear regression analyses per race on the same data (food access vs diabetes risk). We will then compare all the r-squared values of these analyses with that of our original analysis. By looking both at food access overall and at food access per race in each census tract, we hope to answer not only if food access is correlated with diabetes risk in the San Diego area, but whether food access influences diabetes risk independently of race.\n",
    "\n",
    "\n",
    "For each of our single variable analyses, we plan to prepare a plot showing its effect on diabetes risk, revealing how correlated they are. Then, for our regression model, we will show the line of best fit over the scatter plot so the correlation between food access and diabetes risk is clearly displayed.\n",
    "\n",
    "\n",
    "We would like to create a visualization of which factors are the least/most correlated with diabetes. Ideally this would allow easy comparison between factors, as well as clearly display correlation of each one individually. We would also like to present a map that shows the geographic location of areas in San Diego that are at greater risk of diabetes due to their accessibility to supermarkets."
   ]
  },
  {
   "cell_type": "markdown",
   "metadata": {},
   "source": [
    "__TODO(from alia):__ not sure we want any of these histograms? not sure what they're really adding"
   ]
  },
  {
   "cell_type": "code",
   "execution_count": 28,
   "metadata": {},
   "outputs": [
    {
     "data": {
      "text/plain": [
       "<matplotlib.axes._subplots.AxesSubplot at 0x1c247e9320>"
      ]
     },
     "execution_count": 28,
     "metadata": {},
     "output_type": "execute_result"
    },
    {
     "data": {
      "image/png": "[encoded data removed]",
      "text/plain": [
       "<Figure size 432x288 with 1 Axes>"
      ]
     },
     "metadata": {
      "needs_background": "light"
     },
     "output_type": "display_data"
    }
   ],
   "source": [
    "df['total_diabetes'].plot.hist()"
   ]
  },
  {
   "cell_type": "code",
   "execution_count": 29,
   "metadata": {},
   "outputs": [
    {
     "data": {
      "text/plain": [
       "<matplotlib.axes._subplots.AxesSubplot at 0x1c248ad0b8>"
      ]
     },
     "execution_count": 29,
     "metadata": {},
     "output_type": "execute_result"
    },
    {
     "data": {
      "image/png": "[encoded data removed]",
      "text/plain": [
       "<Figure size 432x288 with 1 Axes>"
      ]
     },
     "metadata": {
      "needs_background": "light"
     },
     "output_type": "display_data"
    }
   ],
   "source": [
    "df['white_diabetes'].plot.hist()"
   ]
  },
  {
   "cell_type": "code",
   "execution_count": 30,
   "metadata": {},
   "outputs": [
    {
     "data": {
      "text/plain": [
       "<matplotlib.axes._subplots.AxesSubplot at 0x1c249185c0>"
      ]
     },
     "execution_count": 30,
     "metadata": {},
     "output_type": "execute_result"
    },
    {
     "data": {
      "image/png": "[encoded data removed]",
      "text/plain": [
       "<Figure size 432x288 with 1 Axes>"
      ]
     },
     "metadata": {
      "needs_background": "light"
     },
     "output_type": "display_data"
    }
   ],
   "source": [
    "df['black_diabetes'].plot.hist()"
   ]
  },
  {
   "cell_type": "code",
   "execution_count": 31,
   "metadata": {},
   "outputs": [
    {
     "data": {
      "text/plain": [
       "<matplotlib.axes._subplots.AxesSubplot at 0x1c24f3af60>"
      ]
     },
     "execution_count": 31,
     "metadata": {},
     "output_type": "execute_result"
    },
    {
     "data": {
      "image/png": "[encoded data removed]",
      "text/plain": [
       "<Figure size 432x288 with 1 Axes>"
      ]
     },
     "metadata": {
      "needs_background": "light"
     },
     "output_type": "display_data"
    }
   ],
   "source": [
    "df['asian_diabetes'].plot.hist()"
   ]
  },
  {
   "cell_type": "code",
   "execution_count": 32,
   "metadata": {},
   "outputs": [
    {
     "data": {
      "text/plain": [
       "<matplotlib.axes._subplots.AxesSubplot at 0x1c250166a0>"
      ]
     },
     "execution_count": 32,
     "metadata": {},
     "output_type": "execute_result"
    },
    {
     "data": {
      "image/png": "[encoded data removed]",
      "text/plain": [
       "<Figure size 432x288 with 1 Axes>"
      ]
     },
     "metadata": {
      "needs_background": "light"
     },
     "output_type": "display_data"
    }
   ],
   "source": [
    "df['hispanic_diabetes'].plot.hist()"
   ]
  },
  {
   "cell_type": "code",
   "execution_count": 33,
   "metadata": {},
   "outputs": [
    {
     "name": "stdout",
     "output_type": "stream",
     "text": [
      "white pop: 0.6401426931622101\n",
      "black pop: 0.05111373227844809\n",
      "asian pop: 0.10858061850287838\n",
      "hispanic pop: 0.3202739109098175\n",
      "other pop: 0.20016295605646342\n"
     ]
    }
   ],
   "source": [
    "print(\"white pop:\", sum(df['tractwhite'])/sum(df['pop']))\n",
    "print(\"black pop:\", sum(df['tractblack'])/sum(df['pop']))\n",
    "print(\"asian pop:\", sum(df['tractasian'])/sum(df['pop']))\n",
    "print(\"hispanic pop:\", sum(df['tracthispanic'])/sum(df['pop']))\n",
    "print(\"other pop:\", sum(df['tractother'])/sum(df['pop']))"
   ]
  },
  {
   "cell_type": "code",
   "execution_count": 34,
   "metadata": {},
   "outputs": [
    {
     "data": {
      "text/html": [
       "<div>\n",
       "<style scoped>\n",
       "    .dataframe tbody tr th:only-of-type {\n",
       "        vertical-align: middle;\n",
       "    }\n",
       "\n",
       "    .dataframe tbody tr th {\n",
       "        vertical-align: top;\n",
       "    }\n",
       "\n",
       "    .dataframe thead th {\n",
       "        text-align: right;\n",
       "    }\n",
       "</style>\n",
       "<table border=\"1\" class=\"dataframe\">\n",
       "  <thead>\n",
       "    <tr style=\"text-align: right;\">\n",
       "      <th></th>\n",
       "      <th>pop</th>\n",
       "      <th>%whitehalf</th>\n",
       "      <th>%blackhalf</th>\n",
       "      <th>%asianhalf</th>\n",
       "      <th>%hispanichalf</th>\n",
       "      <th>%otherhalf</th>\n",
       "    </tr>\n",
       "  </thead>\n",
       "  <tbody>\n",
       "    <tr>\n",
       "      <th>0</th>\n",
       "      <td>3029</td>\n",
       "      <td>0.862464</td>\n",
       "      <td>0.000074</td>\n",
       "      <td>0.000630</td>\n",
       "      <td>0.006226</td>\n",
       "      <td>0.001416</td>\n",
       "    </tr>\n",
       "    <tr>\n",
       "      <th>1</th>\n",
       "      <td>1801</td>\n",
       "      <td>0.309999</td>\n",
       "      <td>0.000117</td>\n",
       "      <td>0.000399</td>\n",
       "      <td>0.003796</td>\n",
       "      <td>0.000940</td>\n",
       "    </tr>\n",
       "    <tr>\n",
       "      <th>2</th>\n",
       "      <td>4208</td>\n",
       "      <td>0.340898</td>\n",
       "      <td>0.000367</td>\n",
       "      <td>0.000878</td>\n",
       "      <td>0.009628</td>\n",
       "      <td>0.003017</td>\n",
       "    </tr>\n",
       "    <tr>\n",
       "      <th>3</th>\n",
       "      <td>4732</td>\n",
       "      <td>0.090614</td>\n",
       "      <td>0.000085</td>\n",
       "      <td>0.000469</td>\n",
       "      <td>0.002853</td>\n",
       "      <td>0.000772</td>\n",
       "    </tr>\n",
       "    <tr>\n",
       "      <th>4</th>\n",
       "      <td>3669</td>\n",
       "      <td>0.073442</td>\n",
       "      <td>0.000278</td>\n",
       "      <td>0.000935</td>\n",
       "      <td>0.003835</td>\n",
       "      <td>0.001121</td>\n",
       "    </tr>\n",
       "  </tbody>\n",
       "</table>\n",
       "</div>"
      ],
      "text/plain": [
       "    pop  %whitehalf  %blackhalf  %asianhalf  %hispanichalf  %otherhalf\n",
       "0  3029    0.862464    0.000074    0.000630       0.006226    0.001416\n",
       "1  1801    0.309999    0.000117    0.000399       0.003796    0.000940\n",
       "2  4208    0.340898    0.000367    0.000878       0.009628    0.003017\n",
       "3  4732    0.090614    0.000085    0.000469       0.002853    0.000772\n",
       "4  3669    0.073442    0.000278    0.000935       0.003835    0.001121"
      ]
     },
     "execution_count": 34,
     "metadata": {},
     "output_type": "execute_result"
    }
   ],
   "source": [
    "df_pop_counts = df[['pop']].copy()\n",
    "df_pop_counts['%whitehalf'] = [(x['whitehalfshare']*x['tractwhite'])/x['pop'] for i,x in df.iterrows()]\n",
    "df_pop_counts['%blackhalf'] = [(x['blackhalfshare']*x['tractblack'])/x['pop'] for i,x in df.iterrows()]\n",
    "df_pop_counts['%asianhalf'] = [(x['asianhalfshare']*x['tractasian'])/x['pop'] for i,x in df.iterrows()]\n",
    "df_pop_counts['%hispanichalf'] = [(x['hispanichalfshare']*x['tracthispanic'])/x['pop'] for i,x in df.iterrows()]\n",
    "df_pop_counts['%otherhalf'] = [(x['otherhalfshare']*x['tractother'])/x['pop'] for i,x in df.iterrows()]\n",
    "df_pop_counts.head()\n"
   ]
  },
  {
   "cell_type": "code",
   "execution_count": 35,
   "metadata": {},
   "outputs": [],
   "source": [
    "# start of Alia's part"
   ]
  },
  {
   "cell_type": "markdown",
   "metadata": {},
   "source": [
    "#### race vs diabetes rates ####"
   ]
  },
  {
   "cell_type": "code",
   "execution_count": 36,
   "metadata": {},
   "outputs": [],
   "source": [
    "def get_total_diabetes_rate_for_race(race):\n",
    "    race_pop_col_name = 'tract' + race\n",
    "    race_diabetes_rate_col_name = race + '_diabetes'\n",
    "    \n",
    "    # for each row, multiply pop * diabetes rate to get total, add to sum\n",
    "    num_with_diabetes = df[race_pop_col_name] * df[race_diabetes_rate_col_name]\n",
    "    total_race_with_diabetes_count = num_with_diabetes.sum()\n",
    "    # use .sum() on the pop column to get total pop of the race\n",
    "    total_race_count = df[race_pop_col_name].sum()\n",
    "    # return calculated sum / .sum()\n",
    "    return total_race_with_diabetes_count / total_race_count    "
   ]
  },
  {
   "cell_type": "code",
   "execution_count": 37,
   "metadata": {},
   "outputs": [],
   "source": [
    "def make_bar_graph(x_labels, y_labels, title):\n",
    "    # adapted from stack overflow post:\n",
    "    # https://stackoverflow.com/questions/28931224/adding-value-labels-on-a-matplotlib-bar-chart\n",
    "    plt.figure(figsize=(12, 8))\n",
    "    ax = pd.Series(y_labels).plot(kind='bar')\n",
    "    ax.set_title(title)\n",
    "    ax.set_xticklabels(x_labels)\n",
    "\n",
    "    rects = ax.patches\n",
    "\n",
    "    frequency_labels = [str(r) for r in y_labels]\n",
    "\n",
    "    # add labels to bars\n",
    "    for rect, label in zip(rects, frequency_labels):\n",
    "        height = rect.get_height()\n",
    "        ax.text(rect.get_x() + rect.get_width() / 2, height + .1, label,\n",
    "                ha='center', va='bottom')\n",
    "\n",
    "    # remove the outline\n",
    "    plt.box(False)"
   ]
  },
  {
   "cell_type": "code",
   "execution_count": 38,
   "metadata": {},
   "outputs": [
    {
     "data": {
      "image/png": "[encoded data removed]",
      "text/plain": [
       "<Figure size 864x576 with 1 Axes>"
      ]
     },
     "metadata": {
      "needs_background": "light"
     },
     "output_type": "display_data"
    }
   ],
   "source": [
    "race_labels = ['white','black', 'asian', 'hispanic', 'other']\n",
    "diabetes_rates = [float(\"{0:.3f}\".format(get_total_diabetes_rate_for_race(r)*100)) for r in race_labels]\n",
    "\n",
    "make_bar_graph(race_labels, diabetes_rates, 'Diabetes rates in San Diego')\n",
    "\n",
    "    \n",
    "# plt.bar(range(1,6), diabetes_rates, width=.5, tick_label=labels)"
   ]
  },
  {
   "cell_type": "markdown",
   "metadata": {},
   "source": [
    "#### distance to nearest supermarket vs race ####"
   ]
  },
  {
   "cell_type": "code",
   "execution_count": 39,
   "metadata": {},
   "outputs": [],
   "source": [
    "# race: {'white', 'black', 'hispanic', 'asian', 'other'}\n",
    "# dist: {'half', '1'}\n",
    "def get_share_more_than_dist_for_race(race, dist):\n",
    "    race_pop_col_name = 'tract' + race\n",
    "    race_dist_count_col_name = race + dist\n",
    "    \n",
    "    # use .sum() on the pop count of race + over \"dist\" to supermarket\n",
    "    total_race_over_dist_count = df[race_dist_count_col_name].sum()\n",
    "    # use .sum() on the pop column to get total pop of the race\n",
    "    total_race_count = df[race_pop_col_name].sum()\n",
    "    return total_race_over_dist_count / total_race_count "
   ]
  },
  {
   "cell_type": "code",
   "execution_count": 40,
   "metadata": {},
   "outputs": [
    {
     "name": "stdout",
     "output_type": "stream",
     "text": [
      "[57.392, 47.834, 55.992, 42.633, 43.83]\n"
     ]
    },
    {
     "data": {
      "image/png": "[encoded data removed]",
      "text/plain": [
       "<Figure size 864x576 with 1 Axes>"
      ]
     },
     "metadata": {
      "needs_background": "light"
     },
     "output_type": "display_data"
    }
   ],
   "source": [
    "# Plot > .5 miles away vs race\n",
    "\n",
    "race_labels = ['white','black', 'asian', 'hispanic', 'other']\n",
    "over_dist_rates = [float(\"{0:.3f}\".format(get_share_more_than_dist_for_race(r, 'half')*100)) for r in race_labels]\n",
    "\n",
    "print(over_dist_rates)\n",
    "\n",
    "make_bar_graph(race_labels, over_dist_rates, 'Distance > 1/2 mile from supermarket rates in San Diego');"
   ]
  },
  {
   "cell_type": "code",
   "execution_count": 41,
   "metadata": {},
   "outputs": [
    {
     "data": {
      "image/png": "[encoded data removed]",
      "text/plain": [
       "<Figure size 864x576 with 1 Axes>"
      ]
     },
     "metadata": {
      "needs_background": "light"
     },
     "output_type": "display_data"
    }
   ],
   "source": [
    "# Plot > 1 mile away vs race\n",
    "\n",
    "race_labels = ['white','black', 'asian', 'hispanic', 'other']\n",
    "over_dist_rates = [float(\"{0:.3f}\".format(get_share_more_than_dist_for_race(r, '1')*100)) for r in race_labels]\n",
    "\n",
    "make_bar_graph(race_labels, over_dist_rates, 'Distance > 1 mile from supermarket rates in San Diego');"
   ]
  },
  {
   "cell_type": "code",
   "execution_count": 42,
   "metadata": {},
   "outputs": [],
   "source": [
    "def create_scatter_plus_bestfit(predictor_col, result_col, \n",
    "                                predictor_label, result_label):\n",
    "    outcome, predictors = patsy.dmatrices(result_col + ' ~ ' + predictor_col, df)\n",
    "    mod = sm.OLS(outcome, predictors)\n",
    "    res = mod.fit()\n",
    "\n",
    "    plt.scatter(df[predictor_col], df[result_col], label='Data')\n",
    "\n",
    "    xs = np.arange(df[predictor_col].min(), df[predictor_col].max(), 0.01)\n",
    "    ys = res.params[1] * xs + res.params[0]\n",
    "    plt.plot(xs, ys, '--k', label='Model')\n",
    "\n",
    "    print('y intercept:\\t', \"{0:.5f}\".format(res.params[0]))\n",
    "    print('slope:\\t\\t', \"{0:.5f}\".format(res.params[1]))\n",
    "\n",
    "    plt.xlabel(predictor_label)\n",
    "    plt.ylabel(result_label)\n",
    "    plt.legend()"
   ]
  },
  {
   "cell_type": "markdown",
   "metadata": {},
   "source": [
    "#### distance to supermarket vs diabetes rate ####"
   ]
  },
  {
   "cell_type": "code",
   "execution_count": 43,
   "metadata": {},
   "outputs": [
    {
     "name": "stdout",
     "output_type": "stream",
     "text": [
      "y intercept:\t 0.08730\n",
      "slope:\t\t -0.00000\n"
     ]
    },
    {
     "data": {
      "image/png": "[encoded data removed]",
      "text/plain": [
       "<Figure size 432x288 with 1 Axes>"
      ]
     },
     "metadata": {
      "needs_background": "light"
     },
     "output_type": "display_data"
    }
   ],
   "source": [
    "create_scatter_plus_bestfit('pophalf', 'total_diabetes', \n",
    "                            'share of tract pop farther than .5 miles from supermarket', \n",
    "                            'diabetes rate')"
   ]
  },
  {
   "cell_type": "code",
   "execution_count": 44,
   "metadata": {},
   "outputs": [
    {
     "name": "stdout",
     "output_type": "stream",
     "text": [
      "y intercept:\t 0.08622\n",
      "slope:\t\t -0.00000\n"
     ]
    },
    {
     "data": {
      "image/png": "[encoded data removed]",
      "text/plain": [
       "<Figure size 432x288 with 1 Axes>"
      ]
     },
     "metadata": {
      "needs_background": "light"
     },
     "output_type": "display_data"
    }
   ],
   "source": [
    "create_scatter_plus_bestfit('pop1', 'total_diabetes', \n",
    "                            'share of tract pop farther than 1 mile from supermarket', \n",
    "                            'diabetes rate')"
   ]
  },
  {
   "cell_type": "markdown",
   "metadata": {},
   "source": [
    "(NOTE FOR WRITEUP: tried this with all races individually, got a slope of 0 for each one)"
   ]
  },
  {
   "cell_type": "markdown",
   "metadata": {},
   "source": [
    "#### poverty rate vs diabetes rate ####\n",
    "(NOTE FOR WRITE UP: there is clearly not a very strong correlation here lol)"
   ]
  },
  {
   "cell_type": "code",
   "execution_count": 45,
   "metadata": {},
   "outputs": [
    {
     "name": "stdout",
     "output_type": "stream",
     "text": [
      "y intercept:\t 0.08468\n",
      "slope:\t\t 0.00745\n"
     ]
    },
    {
     "data": {
      "image/png": "[encoded data removed]",
      "text/plain": [
       "<Figure size 432x288 with 1 Axes>"
      ]
     },
     "metadata": {
      "needs_background": "light"
     },
     "output_type": "display_data"
    }
   ],
   "source": [
    "create_scatter_plus_bestfit('povertyrate', 'total_diabetes', \n",
    "                            'poverty rate', 'diabetes rate')"
   ]
  },
  {
   "cell_type": "markdown",
   "metadata": {},
   "source": [
    "#### median family income vs diabetes rates ####\n",
    "(NOTE FOR WRITE UP: there is clearly not a very strong correlation here either lol)"
   ]
  },
  {
   "cell_type": "code",
   "execution_count": 46,
   "metadata": {},
   "outputs": [
    {
     "name": "stdout",
     "output_type": "stream",
     "text": [
      "y intercept:\t 0.08795\n",
      "slope:\t\t -0.00000\n"
     ]
    },
    {
     "data": {
      "image/png": "[encoded data removed]",
      "text/plain": [
       "<Figure size 432x288 with 1 Axes>"
      ]
     },
     "metadata": {
      "needs_background": "light"
     },
     "output_type": "display_data"
    }
   ],
   "source": [
    "create_scatter_plus_bestfit('medianfamilyincome', 'total_diabetes', \n",
    "                            'median family income', 'diabetes rate');"
   ]
  },
  {
   "cell_type": "markdown",
   "metadata": {},
   "source": [
    "### Data Analysis\n",
    "\n",
    "talk about our results here!!"
   ]
  },
  {
   "cell_type": "markdown",
   "metadata": {},
   "source": [
    "### Ethics and Privacy\n",
    "\n",
    "This data has been obtained from the San Diego Regional Data Library which allows people such as governments and journalists have usable data for their operations. The datasets are open to use to “inform and influence grantors, decision makers, and the public” and our project functions to inform the public about the relationship between diabetes and supermarket accessibility. The estimated diabetes rates are calculated from the California Health Interview Survey (CHIS) microdata and is provided from the UCLA Center for Health Policy Research. There are terms and restrictions for creation of the data. Bound by promises made to respondents, CHIS assures that no personal information is released in a way that an individual may be identified without consent. The terms of use that we must comply with includes the California Information Practice Act section 1798.24 which states that the data collected by CHIS may only be released for statistical research and reporting purposes.The  supermarket accessibility data is based on the information from the Food Access Research Atlas which provides food access data for populations within census tracts. This data was gathered from the census and is public information.\n",
    "\n",
    "\n",
    "Because the data was collected from surveys, there is room for biases in the data. It is possible that individuals may not report the correct information. For example, people may incorrectly report income if they are embarrassed about their income level. Another potential bias could be that the risk of diabetes for minority groups is underestimated due to a smaller sample size. Our datasets are very generalized, so in our case there are not very many privacy concerns. Of course if there are very few people of a certain demographic within a GeoID, then we run into a deanonymization issue, especially combining datasets. This likelihood however should be low since we are mostly dealing with rates rather than counts. Our analysis on the other hand could show some interesting conclusions that could have more severe impact. Finding that either race or food access affects diabetes risks more than the other, could negatively impact health insurance premiums for the riskier demographics. If we published findings, then it could affect the choices of potential employers as well, thinking about health coverage of employees or potentially limited future work potential for riskier groups. If we run into these issues we would make sure to clarify in our report that any correlations we find do not imply causation, and that many genetic and environmental factors contribute to a person’s risk for diabetes. "
   ]
  },
  {
   "cell_type": "markdown",
   "metadata": {},
   "source": [
    "### Conclusions and discussions\n",
    "\n",
    "If our hypothesis were to be confirmed, this would mean that “populations with less accessibility to supermarkets would be at higher risk for diabetes development due to the decreased availability of fresh, healthy food options”.  Confirmation of this hypothesis and prediction could have a major impact on the future of urban planning.  With an understanding that availability of supermarkets, and consequently fresh produce, can greatly impact the overall health of the people living in these areas, urban planners can take greater care to incorporate more accessible markets into the planning of future communities. This may impact not only in the field of urban planning, but it could also lead to legislative changes like increased subsidies for local farms.  Farmers’ markets are excellent places for locals to have access to fresh and organic produce, but it is often very expensive.  Governmental subsidies afforded to these farmers may help reduce the price of the product, while simultaneously supporting local businesses.  Along the same lines, a greater push for access to fresh produce could lead to the creation of more community sustained gardening or farming initiatives.  These types of projects are especially impactful in low-income areas due to their self-sustaining nature.\n",
    "\n",
    "If our methods don't work or if our hypothesis are wrong we could look into expanding the size of our data set to include Southern California, or even the entire state of California instead of restricting it to just San Diego county. An increase in the number of data points could reveal trends that were not previously present in the smaller dataset. If our hypothesis turns out to be incorrect, we will have to go back and take another look at our variables, then further modify our hypothesis.\n",
    "\n",
    "A potential confounds in the data that could influence our interpretations would be genetics. Diabetes, to some extent, is hereditary. An individual inherits a predisposition to the disease and something in the environment triggers it. The data does not take into account whether the population in each tract includes people in the same families which may change how the data is interpreted because genetics may be the underlying predictor for diabetes rather than supermarket accessibility. Additionally, the data does not take into account the differences between type 1 diabetes and type 2 diabetes. Type 1 is an autoimmune condition and is not typically associated with poor diet and food intake unlike type 2 diabetes. Therefore, supermarket accessibility would not necessarily contribute to the risk of type 1 diabetes. We may have interpreted the need for supermarket accessibility differently if the data addressed type 1 and type 2 diabetes in the population separately. Another potential pitfall of our data is that the datasets are collected a few years apart. The food access dataset is based on 2010 census data, where as the diabetes dataset is based on data from 2015-2017. If the population of San Diego dramatically changed or shifted around in that time period, it could confound our results."
   ]
  },
  {
   "cell_type": "code",
   "execution_count": null,
   "metadata": {},
   "outputs": [],
   "source": []
  }
 ],
 "metadata": {
  "kernelspec": {
   "display_name": "Python 3",
   "language": "python",
   "name": "python3"
  },
  "language_info": {
   "codemirror_mode": {
    "name": "ipython",
    "version": 3
   },
   "file_extension": ".py",
   "mimetype": "text/x-python",
   "name": "python",
   "nbconvert_exporter": "python",
   "pygments_lexer": "ipython3",
   "version": "3.7.1"
  }
 },
 "nbformat": 4,
 "nbformat_minor": 2
}
